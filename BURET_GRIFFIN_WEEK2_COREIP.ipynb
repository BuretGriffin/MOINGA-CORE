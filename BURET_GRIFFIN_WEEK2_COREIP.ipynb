{
  "nbformat": 4,
  "nbformat_minor": 0,
  "metadata": {
    "colab": {
      "name": "BURET_GRIFFIN_WEEK2_COREIP.ipynb",
      "provenance": [],
      "authorship_tag": "ABX9TyMQBYsd/K21kb3mgnBqefAd",
      "include_colab_link": true
    },
    "kernelspec": {
      "name": "python3",
      "display_name": "Python 3"
    },
    "language_info": {
      "name": "python"
    }
  },
  "cells": [
    {
      "cell_type": "markdown",
      "metadata": {
        "id": "view-in-github",
        "colab_type": "text"
      },
      "source": [
        "<a href=\"https://colab.research.google.com/github/BuretGriffin/MOINGA-CORE/blob/main/BURET_GRIFFIN_WEEK2_COREIP.ipynb\" target=\"_parent\"><img src=\"https://colab.research.google.com/assets/colab-badge.svg\" alt=\"Open In Colab\"/></a>"
      ]
    },
    {
      "cell_type": "code",
      "execution_count": 1,
      "metadata": {
        "id": "JMeXInVUExzK"
      },
      "outputs": [],
      "source": [
        "import pandas as pd\n",
        "import numpy as pd\n"
      ]
    }
  ]
}